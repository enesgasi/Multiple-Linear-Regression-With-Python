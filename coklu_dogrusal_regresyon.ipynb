{
 "cells": [
  {
   "cell_type": "markdown",
   "id": "d3c641fc",
   "metadata": {},
   "source": [
    "# Tüfe ile konut fiyat endeksi ve toplam konut satışları arasındaki ilişkinin analizi\n"
   ]
  },
  {
   "cell_type": "markdown",
   "id": "1e7c4c85",
   "metadata": {},
   "source": [
    "### Gerekli kütüphanelerin çağırılması \n"
   ]
  },
  {
   "cell_type": "code",
   "execution_count": 87,
   "id": "90b17633",
   "metadata": {},
   "outputs": [],
   "source": [
    "import pandas as pd\n",
    "import numpy as np\n",
    "from sklearn.model_selection import train_test_split\n",
    "from sklearn.linear_model import LinearRegression\n",
    "from sklearn.metrics import r2_score\n",
    "import matplotlib.pyplot as plt\n",
    "from scipy import stats"
   ]
  },
  {
   "cell_type": "markdown",
   "id": "dcd9e552",
   "metadata": {},
   "source": [
    "### Merkez bankasından aldığımız verinin okunması\n"
   ]
  },
  {
   "cell_type": "code",
   "execution_count": 88,
   "id": "092a0abd",
   "metadata": {},
   "outputs": [],
   "source": [
    "df1 = pd.read_excel('EVDS.xlsx')"
   ]
  },
  {
   "cell_type": "code",
   "execution_count": 89,
   "id": "46e1ed89",
   "metadata": {},
   "outputs": [
    {
     "data": {
      "text/html": [
       "<div>\n",
       "<style scoped>\n",
       "    .dataframe tbody tr th:only-of-type {\n",
       "        vertical-align: middle;\n",
       "    }\n",
       "\n",
       "    .dataframe tbody tr th {\n",
       "        vertical-align: top;\n",
       "    }\n",
       "\n",
       "    .dataframe thead th {\n",
       "        text-align: right;\n",
       "    }\n",
       "</style>\n",
       "<table border=\"1\" class=\"dataframe\">\n",
       "  <thead>\n",
       "    <tr style=\"text-align: right;\">\n",
       "      <th></th>\n",
       "      <th>Tarih</th>\n",
       "      <th>TP AKONUTSAT1 TOPLAM</th>\n",
       "      <th>TP FE OKTG01</th>\n",
       "      <th>TP HKFE01</th>\n",
       "    </tr>\n",
       "  </thead>\n",
       "  <tbody>\n",
       "    <tr>\n",
       "      <th>0</th>\n",
       "      <td>2009-10</td>\n",
       "      <td>NaN</td>\n",
       "      <td>167.88</td>\n",
       "      <td>NaN</td>\n",
       "    </tr>\n",
       "    <tr>\n",
       "      <th>1</th>\n",
       "      <td>2009-11</td>\n",
       "      <td>NaN</td>\n",
       "      <td>170.01</td>\n",
       "      <td>NaN</td>\n",
       "    </tr>\n",
       "    <tr>\n",
       "      <th>2</th>\n",
       "      <td>2009-12</td>\n",
       "      <td>NaN</td>\n",
       "      <td>170.91</td>\n",
       "      <td>NaN</td>\n",
       "    </tr>\n",
       "    <tr>\n",
       "      <th>3</th>\n",
       "      <td>2010-01</td>\n",
       "      <td>NaN</td>\n",
       "      <td>174.07</td>\n",
       "      <td>45.4</td>\n",
       "    </tr>\n",
       "    <tr>\n",
       "      <th>4</th>\n",
       "      <td>2010-02</td>\n",
       "      <td>NaN</td>\n",
       "      <td>176.59</td>\n",
       "      <td>45.6</td>\n",
       "    </tr>\n",
       "    <tr>\n",
       "      <th>...</th>\n",
       "      <td>...</td>\n",
       "      <td>...</td>\n",
       "      <td>...</td>\n",
       "      <td>...</td>\n",
       "    </tr>\n",
       "    <tr>\n",
       "      <th>146</th>\n",
       "      <td>2021-12</td>\n",
       "      <td>226503.0</td>\n",
       "      <td>686.95</td>\n",
       "      <td>247.4</td>\n",
       "    </tr>\n",
       "    <tr>\n",
       "      <th>147</th>\n",
       "      <td>2022-01</td>\n",
       "      <td>88306.0</td>\n",
       "      <td>763.23</td>\n",
       "      <td>279.9</td>\n",
       "    </tr>\n",
       "    <tr>\n",
       "      <th>148</th>\n",
       "      <td>2022-02</td>\n",
       "      <td>97587.0</td>\n",
       "      <td>799.93</td>\n",
       "      <td>317.6</td>\n",
       "    </tr>\n",
       "    <tr>\n",
       "      <th>149</th>\n",
       "      <td>2022-03</td>\n",
       "      <td>134170.0</td>\n",
       "      <td>843.64</td>\n",
       "      <td>NaN</td>\n",
       "    </tr>\n",
       "    <tr>\n",
       "      <th>150</th>\n",
       "      <td>2022-04</td>\n",
       "      <td>NaN</td>\n",
       "      <td>904.79</td>\n",
       "      <td>NaN</td>\n",
       "    </tr>\n",
       "  </tbody>\n",
       "</table>\n",
       "<p>151 rows × 4 columns</p>\n",
       "</div>"
      ],
      "text/plain": [
       "       Tarih  TP AKONUTSAT1 TOPLAM  TP FE OKTG01  TP HKFE01\n",
       "0    2009-10                   NaN        167.88        NaN\n",
       "1    2009-11                   NaN        170.01        NaN\n",
       "2    2009-12                   NaN        170.91        NaN\n",
       "3    2010-01                   NaN        174.07       45.4\n",
       "4    2010-02                   NaN        176.59       45.6\n",
       "..       ...                   ...           ...        ...\n",
       "146  2021-12              226503.0        686.95      247.4\n",
       "147  2022-01               88306.0        763.23      279.9\n",
       "148  2022-02               97587.0        799.93      317.6\n",
       "149  2022-03              134170.0        843.64        NaN\n",
       "150  2022-04                   NaN        904.79        NaN\n",
       "\n",
       "[151 rows x 4 columns]"
      ]
     },
     "execution_count": 89,
     "metadata": {},
     "output_type": "execute_result"
    }
   ],
   "source": [
    "df1"
   ]
  },
  {
   "cell_type": "markdown",
   "id": "e4bbe70b",
   "metadata": {},
   "source": [
    "### Elimizdeki  verileri temizleme"
   ]
  },
  {
   "cell_type": "markdown",
   "id": "e2e18481",
   "metadata": {},
   "source": [
    "Burada işimize yaramayan tarih sütununu kaldırıyoruz ve sayı olmayan değerleri temizliyoruz. Ayrıca rahat okunabilirlik adına sütun adlarını teknik terimlerden daha rahat okunabilir isimlere çeviriyorum"
   ]
  },
  {
   "cell_type": "code",
   "execution_count": 90,
   "id": "07415fc2",
   "metadata": {},
   "outputs": [
    {
     "name": "stderr",
     "output_type": "stream",
     "text": [
      "C:\\Users\\PC\\AppData\\Local\\Temp/ipykernel_4936/3122792065.py:2: FutureWarning: In a future version of pandas all arguments of DataFrame.drop except for the argument 'labels' will be keyword-only\n",
      "  df2 = df2.drop('Tarih', 1)\n"
     ]
    },
    {
     "data": {
      "text/html": [
       "<div>\n",
       "<style scoped>\n",
       "    .dataframe tbody tr th:only-of-type {\n",
       "        vertical-align: middle;\n",
       "    }\n",
       "\n",
       "    .dataframe tbody tr th {\n",
       "        vertical-align: top;\n",
       "    }\n",
       "\n",
       "    .dataframe thead th {\n",
       "        text-align: right;\n",
       "    }\n",
       "</style>\n",
       "<table border=\"1\" class=\"dataframe\">\n",
       "  <thead>\n",
       "    <tr style=\"text-align: right;\">\n",
       "      <th></th>\n",
       "      <th>Toplam Konut Satışı</th>\n",
       "      <th>Tüketici Fiyat Endeksi</th>\n",
       "      <th>Konut Fiyat Endeksi</th>\n",
       "    </tr>\n",
       "  </thead>\n",
       "  <tbody>\n",
       "    <tr>\n",
       "      <th>39</th>\n",
       "      <td>87444.0</td>\n",
       "      <td>216.74</td>\n",
       "      <td>56.9</td>\n",
       "    </tr>\n",
       "    <tr>\n",
       "      <th>40</th>\n",
       "      <td>88519.0</td>\n",
       "      <td>217.39</td>\n",
       "      <td>57.6</td>\n",
       "    </tr>\n",
       "    <tr>\n",
       "      <th>41</th>\n",
       "      <td>97956.0</td>\n",
       "      <td>218.83</td>\n",
       "      <td>58.4</td>\n",
       "    </tr>\n",
       "    <tr>\n",
       "      <th>42</th>\n",
       "      <td>95381.0</td>\n",
       "      <td>219.75</td>\n",
       "      <td>59.2</td>\n",
       "    </tr>\n",
       "    <tr>\n",
       "      <th>43</th>\n",
       "      <td>103261.0</td>\n",
       "      <td>220.07</td>\n",
       "      <td>60.0</td>\n",
       "    </tr>\n",
       "    <tr>\n",
       "      <th>...</th>\n",
       "      <td>...</td>\n",
       "      <td>...</td>\n",
       "      <td>...</td>\n",
       "    </tr>\n",
       "    <tr>\n",
       "      <th>144</th>\n",
       "      <td>137401.0</td>\n",
       "      <td>584.32</td>\n",
       "      <td>210.2</td>\n",
       "    </tr>\n",
       "    <tr>\n",
       "      <th>145</th>\n",
       "      <td>178814.0</td>\n",
       "      <td>604.84</td>\n",
       "      <td>229.2</td>\n",
       "    </tr>\n",
       "    <tr>\n",
       "      <th>146</th>\n",
       "      <td>226503.0</td>\n",
       "      <td>686.95</td>\n",
       "      <td>247.4</td>\n",
       "    </tr>\n",
       "    <tr>\n",
       "      <th>147</th>\n",
       "      <td>88306.0</td>\n",
       "      <td>763.23</td>\n",
       "      <td>279.9</td>\n",
       "    </tr>\n",
       "    <tr>\n",
       "      <th>148</th>\n",
       "      <td>97587.0</td>\n",
       "      <td>799.93</td>\n",
       "      <td>317.6</td>\n",
       "    </tr>\n",
       "  </tbody>\n",
       "</table>\n",
       "<p>110 rows × 3 columns</p>\n",
       "</div>"
      ],
      "text/plain": [
       "     Toplam Konut Satışı  Tüketici Fiyat Endeksi  Konut Fiyat Endeksi\n",
       "39               87444.0                  216.74                 56.9\n",
       "40               88519.0                  217.39                 57.6\n",
       "41               97956.0                  218.83                 58.4\n",
       "42               95381.0                  219.75                 59.2\n",
       "43              103261.0                  220.07                 60.0\n",
       "..                   ...                     ...                  ...\n",
       "144             137401.0                  584.32                210.2\n",
       "145             178814.0                  604.84                229.2\n",
       "146             226503.0                  686.95                247.4\n",
       "147              88306.0                  763.23                279.9\n",
       "148              97587.0                  799.93                317.6\n",
       "\n",
       "[110 rows x 3 columns]"
      ]
     },
     "execution_count": 90,
     "metadata": {},
     "output_type": "execute_result"
    }
   ],
   "source": [
    "df2 = df1.dropna()\n",
    "df2 = df2.drop('Tarih', 1)\n",
    "\n",
    "df2.rename(columns={'TP AKONUTSAT1 TOPLAM':'Toplam Konut Satışı', 'TP FE OKTG01':'Tüketici Fiyat Endeksi', 'TP HKFE01':'Konut Fiyat Endeksi'}, inplace=True)\n",
    "\n",
    "df2"
   ]
  },
  {
   "cell_type": "markdown",
   "id": "f1e4d6e4",
   "metadata": {},
   "source": [
    "### Regresyon modelinde bağımlı ve bağımsız değişkenleri belirleme"
   ]
  },
  {
   "cell_type": "code",
   "execution_count": 100,
   "id": "0f951afa",
   "metadata": {},
   "outputs": [],
   "source": [
    "x = df2.drop(['Tüketici Fiyat Endeksi'], axis=1).values\n",
    "y = df2['Tüketici Fiyat Endeksi'].values"
   ]
  },
  {
   "cell_type": "markdown",
   "id": "d7737326",
   "metadata": {},
   "source": [
    "### Eğitim ve test verilerini ayırma"
   ]
  },
  {
   "cell_type": "code",
   "execution_count": 101,
   "id": "2b8b7362",
   "metadata": {},
   "outputs": [],
   "source": [
    "x_train, x_test, y_train, y_test = train_test_split(x, y, test_size=0.3, random_state=0)"
   ]
  },
  {
   "cell_type": "markdown",
   "id": "69530922",
   "metadata": {},
   "source": [
    "### Regresyon modelinin kurulması"
   ]
  },
  {
   "cell_type": "code",
   "execution_count": 102,
   "id": "3686fe3a",
   "metadata": {},
   "outputs": [
    {
     "data": {
      "text/plain": [
       "LinearRegression()"
      ]
     },
     "execution_count": 102,
     "metadata": {},
     "output_type": "execute_result"
    }
   ],
   "source": [
    "reg = LinearRegression()\n",
    "reg.fit(x_train, y_train)"
   ]
  },
  {
   "cell_type": "markdown",
   "id": "3ae4dde0",
   "metadata": {},
   "source": [
    "### Test sonuçlarının tahmin edilmesi"
   ]
  },
  {
   "cell_type": "code",
   "execution_count": 103,
   "id": "2c0bb9c2",
   "metadata": {},
   "outputs": [
    {
     "name": "stdout",
     "output_type": "stream",
     "text": [
      "[393.56969761 232.60494531 357.6327515  219.98915788 264.16496302\n",
      " 544.28887166 919.72270851 230.10077373 245.5342791  442.76450897\n",
      " 349.53989315 257.0269606  310.55713106 343.47319712 360.59705312\n",
      " 329.33789339 239.25242414 358.02288796 399.46317629 331.31661648\n",
      " 624.65565349 229.14759808 266.78000433 471.31392636 284.79008032\n",
      " 222.48182307 354.03521586 320.4691945  280.09280776 226.42451569\n",
      " 365.20330943 427.03975605 373.21541205]\n"
     ]
    }
   ],
   "source": [
    "y_pred = reg.predict(x_test)\n",
    "print(y_pred)"
   ]
  },
  {
   "cell_type": "code",
   "execution_count": 104,
   "id": "e1c3800e",
   "metadata": {},
   "outputs": [
    {
     "data": {
      "text/plain": [
       "array([217.30004207])"
      ]
     },
     "execution_count": 104,
     "metadata": {},
     "output_type": "execute_result"
    }
   ],
   "source": [
    "reg.predict([[87444\t,56.9]])"
   ]
  },
  {
   "cell_type": "markdown",
   "id": "e5eaa1e2",
   "metadata": {},
   "source": [
    "Yukarıda gördüğünüz gibi, X1 ve X2 değişkenlerimizi reg.predict() fonksiyonumuza girdiğimzde çıkan sonuç dataframe'imizdeki Y değerine çok yakın. Kendiniz de görmek için farklı X1 ve X2 değerleriyle test edebilirsiniz"
   ]
  },
  {
   "cell_type": "markdown",
   "id": "3357dd92",
   "metadata": {},
   "source": [
    "### Modelin güvenilirlik seviyesi"
   ]
  },
  {
   "cell_type": "code",
   "execution_count": 105,
   "id": "778f5bc5",
   "metadata": {},
   "outputs": [
    {
     "data": {
      "text/plain": [
       "0.9222644987301071"
      ]
     },
     "execution_count": 105,
     "metadata": {},
     "output_type": "execute_result"
    }
   ],
   "source": [
    "r2_score(y_test, y_pred)"
   ]
  },
  {
   "cell_type": "markdown",
   "id": "16d8d91f",
   "metadata": {},
   "source": [
    "Modelimizin güvenilirlik seviyesi yukarıdaki testimizden de belli olduğu üzere oldukça yüksek: %92."
   ]
  },
  {
   "cell_type": "markdown",
   "id": "979522eb",
   "metadata": {},
   "source": [
    "### Sonuçları görselleştirme"
   ]
  },
  {
   "cell_type": "code",
   "execution_count": 106,
   "id": "de8549c5",
   "metadata": {},
   "outputs": [
    {
     "data": {
      "text/plain": [
       "Text(0, 0.5, 'Tahmin')"
      ]
     },
     "execution_count": 106,
     "metadata": {},
     "output_type": "execute_result"
    },
    {
     "data": {
      "image/png": "[encoded data removed]",
      "text/plain": [
       "<Figure size 720x360 with 1 Axes>"
      ]
     },
     "metadata": {
      "needs_background": "light"
     },
     "output_type": "display_data"
    }
   ],
   "source": [
    "plt.figure(figsize=(10, 5))\n",
    "plt.scatter(y_test, y_pred)\n",
    "plt.xlabel('Gerçek')\n",
    "plt.ylabel('Tahmin')\n"
   ]
  },
  {
   "cell_type": "markdown",
   "id": "42e1bd78",
   "metadata": {},
   "source": [
    "### Tahmin değerlerimizin gerçek değerlerden ne kadar saptığını gösteren bir dataframe"
   ]
  },
  {
   "cell_type": "code",
   "execution_count": 109,
   "id": "cc040ba1",
   "metadata": {},
   "outputs": [
    {
     "data": {
      "text/html": [
       "<div>\n",
       "<style scoped>\n",
       "    .dataframe tbody tr th:only-of-type {\n",
       "        vertical-align: middle;\n",
       "    }\n",
       "\n",
       "    .dataframe tbody tr th {\n",
       "        vertical-align: top;\n",
       "    }\n",
       "\n",
       "    .dataframe thead th {\n",
       "        text-align: right;\n",
       "    }\n",
       "</style>\n",
       "<table border=\"1\" class=\"dataframe\">\n",
       "  <thead>\n",
       "    <tr style=\"text-align: right;\">\n",
       "      <th></th>\n",
       "      <th>Gerçek Değer</th>\n",
       "      <th>Tahmin Değeri</th>\n",
       "      <th>Fark</th>\n",
       "    </tr>\n",
       "  </thead>\n",
       "  <tbody>\n",
       "    <tr>\n",
       "      <th>0</th>\n",
       "      <td>448.02</td>\n",
       "      <td>393.569698</td>\n",
       "      <td>54.450302</td>\n",
       "    </tr>\n",
       "    <tr>\n",
       "      <th>1</th>\n",
       "      <td>227.96</td>\n",
       "      <td>232.604945</td>\n",
       "      <td>4.644945</td>\n",
       "    </tr>\n",
       "    <tr>\n",
       "      <th>2</th>\n",
       "      <td>409.63</td>\n",
       "      <td>357.632752</td>\n",
       "      <td>51.997248</td>\n",
       "    </tr>\n",
       "    <tr>\n",
       "      <th>3</th>\n",
       "      <td>218.83</td>\n",
       "      <td>219.989158</td>\n",
       "      <td>1.159158</td>\n",
       "    </tr>\n",
       "    <tr>\n",
       "      <th>4</th>\n",
       "      <td>250.45</td>\n",
       "      <td>264.164963</td>\n",
       "      <td>13.714963</td>\n",
       "    </tr>\n",
       "    <tr>\n",
       "      <th>5</th>\n",
       "      <td>547.48</td>\n",
       "      <td>544.288872</td>\n",
       "      <td>3.191128</td>\n",
       "    </tr>\n",
       "    <tr>\n",
       "      <th>6</th>\n",
       "      <td>799.93</td>\n",
       "      <td>919.722709</td>\n",
       "      <td>119.792709</td>\n",
       "    </tr>\n",
       "    <tr>\n",
       "      <th>7</th>\n",
       "      <td>222.21</td>\n",
       "      <td>230.100774</td>\n",
       "      <td>7.890774</td>\n",
       "    </tr>\n",
       "    <tr>\n",
       "      <th>8</th>\n",
       "      <td>241.32</td>\n",
       "      <td>245.534279</td>\n",
       "      <td>4.214279</td>\n",
       "    </tr>\n",
       "    <tr>\n",
       "      <th>9</th>\n",
       "      <td>472.61</td>\n",
       "      <td>442.764509</td>\n",
       "      <td>29.845491</td>\n",
       "    </tr>\n",
       "    <tr>\n",
       "      <th>10</th>\n",
       "      <td>390.84</td>\n",
       "      <td>349.539893</td>\n",
       "      <td>41.300107</td>\n",
       "    </tr>\n",
       "    <tr>\n",
       "      <th>11</th>\n",
       "      <td>248.82</td>\n",
       "      <td>257.026961</td>\n",
       "      <td>8.206961</td>\n",
       "    </tr>\n",
       "    <tr>\n",
       "      <th>12</th>\n",
       "      <td>286.33</td>\n",
       "      <td>310.557131</td>\n",
       "      <td>24.227131</td>\n",
       "    </tr>\n",
       "    <tr>\n",
       "      <th>13</th>\n",
       "      <td>330.75</td>\n",
       "      <td>343.473197</td>\n",
       "      <td>12.723197</td>\n",
       "    </tr>\n",
       "    <tr>\n",
       "      <th>14</th>\n",
       "      <td>413.52</td>\n",
       "      <td>360.597053</td>\n",
       "      <td>52.922947</td>\n",
       "    </tr>\n",
       "    <tr>\n",
       "      <th>15</th>\n",
       "      <td>310.61</td>\n",
       "      <td>329.337893</td>\n",
       "      <td>18.727893</td>\n",
       "    </tr>\n",
       "    <tr>\n",
       "      <th>16</th>\n",
       "      <td>234.54</td>\n",
       "      <td>239.252424</td>\n",
       "      <td>4.712424</td>\n",
       "    </tr>\n",
       "    <tr>\n",
       "      <th>17</th>\n",
       "      <td>398.71</td>\n",
       "      <td>358.022888</td>\n",
       "      <td>40.687112</td>\n",
       "    </tr>\n",
       "    <tr>\n",
       "      <th>18</th>\n",
       "      <td>450.58</td>\n",
       "      <td>399.463176</td>\n",
       "      <td>51.116824</td>\n",
       "    </tr>\n",
       "    <tr>\n",
       "      <th>19</th>\n",
       "      <td>310.24</td>\n",
       "      <td>331.316616</td>\n",
       "      <td>21.076616</td>\n",
       "    </tr>\n",
       "    <tr>\n",
       "      <th>20</th>\n",
       "      <td>584.32</td>\n",
       "      <td>624.655653</td>\n",
       "      <td>40.335653</td>\n",
       "    </tr>\n",
       "    <tr>\n",
       "      <th>21</th>\n",
       "      <td>223.91</td>\n",
       "      <td>229.147598</td>\n",
       "      <td>5.237598</td>\n",
       "    </tr>\n",
       "    <tr>\n",
       "      <th>22</th>\n",
       "      <td>255.23</td>\n",
       "      <td>266.780004</td>\n",
       "      <td>11.550004</td>\n",
       "    </tr>\n",
       "    <tr>\n",
       "      <th>23</th>\n",
       "      <td>498.58</td>\n",
       "      <td>471.313926</td>\n",
       "      <td>27.266074</td>\n",
       "    </tr>\n",
       "    <tr>\n",
       "      <th>24</th>\n",
       "      <td>267.20</td>\n",
       "      <td>284.790080</td>\n",
       "      <td>17.590080</td>\n",
       "    </tr>\n",
       "    <tr>\n",
       "      <th>25</th>\n",
       "      <td>219.75</td>\n",
       "      <td>222.481823</td>\n",
       "      <td>2.731823</td>\n",
       "    </tr>\n",
       "    <tr>\n",
       "      <th>26</th>\n",
       "      <td>359.41</td>\n",
       "      <td>354.035216</td>\n",
       "      <td>5.374784</td>\n",
       "    </tr>\n",
       "    <tr>\n",
       "      <th>27</th>\n",
       "      <td>299.74</td>\n",
       "      <td>320.469195</td>\n",
       "      <td>20.729195</td>\n",
       "    </tr>\n",
       "    <tr>\n",
       "      <th>28</th>\n",
       "      <td>259.74</td>\n",
       "      <td>280.092808</td>\n",
       "      <td>20.352808</td>\n",
       "    </tr>\n",
       "    <tr>\n",
       "      <th>29</th>\n",
       "      <td>222.44</td>\n",
       "      <td>226.424516</td>\n",
       "      <td>3.984516</td>\n",
       "    </tr>\n",
       "    <tr>\n",
       "      <th>30</th>\n",
       "      <td>419.24</td>\n",
       "      <td>365.203309</td>\n",
       "      <td>54.036691</td>\n",
       "    </tr>\n",
       "    <tr>\n",
       "      <th>31</th>\n",
       "      <td>468.56</td>\n",
       "      <td>427.039756</td>\n",
       "      <td>41.520244</td>\n",
       "    </tr>\n",
       "    <tr>\n",
       "      <th>32</th>\n",
       "      <td>437.25</td>\n",
       "      <td>373.215412</td>\n",
       "      <td>64.034588</td>\n",
       "    </tr>\n",
       "  </tbody>\n",
       "</table>\n",
       "</div>"
      ],
      "text/plain": [
       "    Gerçek Değer  Tahmin Değeri        Fark\n",
       "0         448.02     393.569698   54.450302\n",
       "1         227.96     232.604945    4.644945\n",
       "2         409.63     357.632752   51.997248\n",
       "3         218.83     219.989158    1.159158\n",
       "4         250.45     264.164963   13.714963\n",
       "5         547.48     544.288872    3.191128\n",
       "6         799.93     919.722709  119.792709\n",
       "7         222.21     230.100774    7.890774\n",
       "8         241.32     245.534279    4.214279\n",
       "9         472.61     442.764509   29.845491\n",
       "10        390.84     349.539893   41.300107\n",
       "11        248.82     257.026961    8.206961\n",
       "12        286.33     310.557131   24.227131\n",
       "13        330.75     343.473197   12.723197\n",
       "14        413.52     360.597053   52.922947\n",
       "15        310.61     329.337893   18.727893\n",
       "16        234.54     239.252424    4.712424\n",
       "17        398.71     358.022888   40.687112\n",
       "18        450.58     399.463176   51.116824\n",
       "19        310.24     331.316616   21.076616\n",
       "20        584.32     624.655653   40.335653\n",
       "21        223.91     229.147598    5.237598\n",
       "22        255.23     266.780004   11.550004\n",
       "23        498.58     471.313926   27.266074\n",
       "24        267.20     284.790080   17.590080\n",
       "25        219.75     222.481823    2.731823\n",
       "26        359.41     354.035216    5.374784\n",
       "27        299.74     320.469195   20.729195\n",
       "28        259.74     280.092808   20.352808\n",
       "29        222.44     226.424516    3.984516\n",
       "30        419.24     365.203309   54.036691\n",
       "31        468.56     427.039756   41.520244\n",
       "32        437.25     373.215412   64.034588"
      ]
     },
     "execution_count": 109,
     "metadata": {},
     "output_type": "execute_result"
    }
   ],
   "source": [
    "pred_y_df=pd.DataFrame({'Gerçek Değer':y_test, 'Tahmin Değeri':y_pred, 'Fark':abs(y_test-y_pred)})\n",
    "\n",
    "pred_y_df"
   ]
  },
  {
   "cell_type": "markdown",
   "id": "be1f668d",
   "metadata": {},
   "source": [
    "YARARLANDIĞIM KAYNAKLAR:"
   ]
  },
  {
   "cell_type": "markdown",
   "id": "195af01c",
   "metadata": {},
   "source": [
    "\n",
    "https://towardsdatascience.com/five-regression-python-modules-that-every-data-scientist-must-know-a4e03a886853\n"
   ]
  },
  {
   "cell_type": "markdown",
   "id": "7c6495ed",
   "metadata": {},
   "source": [
    "https://towardsdatascience.com/simple-and-multiple-linear-regression-in-python-c928425168f9"
   ]
  },
  {
   "cell_type": "markdown",
   "id": "587f5fda",
   "metadata": {},
   "source": [
    "https://www.analyticsvidhya.com/blog/2022/02/linear-regression-with-python-implementation/"
   ]
  },
  {
   "cell_type": "markdown",
   "id": "6fdff68f",
   "metadata": {},
   "source": [
    "https://scikit-learn.org/stable/modules/generated/sklearn.linear_model.LinearRegression.html"
   ]
  }
 ],
 "metadata": {
  "interpreter": {
   "hash": "1cca9558bc5ad879ec93cc030b157d75f18267527c60932cecaace349eef54dd"
  },
  "kernelspec": {
   "display_name": "Python 3.9.7 ('base')",
   "language": "python",
   "name": "python3"
  },
  "language_info": {
   "codemirror_mode": {
    "name": "ipython",
    "version": 3
   },
   "file_extension": ".py",
   "mimetype": "text/x-python",
   "name": "python",
   "nbconvert_exporter": "python",
   "pygments_lexer": "ipython3",
   "version": "3.9.7"
  }
 },
 "nbformat": 4,
 "nbformat_minor": 5
}
